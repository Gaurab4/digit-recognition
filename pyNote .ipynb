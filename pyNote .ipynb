{
 "cells": [
  {
   "cell_type": "code",
   "execution_count": 1,
   "id": "be20f1c0",
   "metadata": {},
   "outputs": [
    {
     "name": "stdout",
     "output_type": "stream",
     "text": [
      "Requirement already satisfied: gradio in /Users/gaurab/miniforge3/envs/tensorflow/lib/python3.9/site-packages (3.0.24)\n",
      "Requirement already satisfied: ffmpy in /Users/gaurab/miniforge3/envs/tensorflow/lib/python3.9/site-packages (from gradio) (0.3.0)\n",
      "Requirement already satisfied: orjson in /Users/gaurab/miniforge3/envs/tensorflow/lib/python3.9/site-packages (from gradio) (3.7.7)\n",
      "Requirement already satisfied: fsspec in /Users/gaurab/miniforge3/envs/tensorflow/lib/python3.9/site-packages (from gradio) (2022.5.0)\n",
      "Requirement already satisfied: uvicorn in /Users/gaurab/miniforge3/envs/tensorflow/lib/python3.9/site-packages (from gradio) (0.18.2)\n",
      "Requirement already satisfied: pydub in /Users/gaurab/miniforge3/envs/tensorflow/lib/python3.9/site-packages (from gradio) (0.25.1)\n",
      "Requirement already satisfied: matplotlib in /Users/gaurab/miniforge3/envs/tensorflow/lib/python3.9/site-packages (from gradio) (3.5.1)\n",
      "Requirement already satisfied: python-multipart in /Users/gaurab/miniforge3/envs/tensorflow/lib/python3.9/site-packages (from gradio) (0.0.5)\n",
      "Requirement already satisfied: analytics-python in /Users/gaurab/miniforge3/envs/tensorflow/lib/python3.9/site-packages (from gradio) (1.4.0)\n",
      "Requirement already satisfied: aiohttp in /Users/gaurab/miniforge3/envs/tensorflow/lib/python3.9/site-packages (from gradio) (3.8.1)\n",
      "Requirement already satisfied: pydantic in /Users/gaurab/miniforge3/envs/tensorflow/lib/python3.9/site-packages (from gradio) (1.9.1)\n",
      "Requirement already satisfied: httpx in /Users/gaurab/miniforge3/envs/tensorflow/lib/python3.9/site-packages (from gradio) (0.23.0)\n",
      "Requirement already satisfied: numpy in /Users/gaurab/miniforge3/envs/tensorflow/lib/python3.9/site-packages (from gradio) (1.23.1)\n",
      "Requirement already satisfied: paramiko in /Users/gaurab/miniforge3/envs/tensorflow/lib/python3.9/site-packages (from gradio) (2.11.0)\n",
      "Requirement already satisfied: pillow in /Users/gaurab/miniforge3/envs/tensorflow/lib/python3.9/site-packages (from gradio) (9.2.0)\n",
      "Requirement already satisfied: pycryptodome in /Users/gaurab/miniforge3/envs/tensorflow/lib/python3.9/site-packages (from gradio) (3.15.0)\n",
      "Requirement already satisfied: requests in /Users/gaurab/miniforge3/envs/tensorflow/lib/python3.9/site-packages (from gradio) (2.28.1)\n",
      "Requirement already satisfied: fastapi in /Users/gaurab/miniforge3/envs/tensorflow/lib/python3.9/site-packages (from gradio) (0.79.0)\n",
      "Requirement already satisfied: Jinja2 in /Users/gaurab/miniforge3/envs/tensorflow/lib/python3.9/site-packages (from gradio) (3.0.3)\n",
      "Requirement already satisfied: markdown-it-py[linkify,plugins] in /Users/gaurab/miniforge3/envs/tensorflow/lib/python3.9/site-packages (from gradio) (2.1.0)\n",
      "Requirement already satisfied: pandas in /Users/gaurab/miniforge3/envs/tensorflow/lib/python3.9/site-packages (from gradio) (1.4.3)\n",
      "Requirement already satisfied: attrs>=17.3.0 in /Users/gaurab/miniforge3/envs/tensorflow/lib/python3.9/site-packages (from aiohttp->gradio) (21.4.0)\n",
      "Requirement already satisfied: multidict<7.0,>=4.5 in /Users/gaurab/miniforge3/envs/tensorflow/lib/python3.9/site-packages (from aiohttp->gradio) (6.0.2)\n",
      "Requirement already satisfied: async-timeout<5.0,>=4.0.0a3 in /Users/gaurab/miniforge3/envs/tensorflow/lib/python3.9/site-packages (from aiohttp->gradio) (4.0.2)\n",
      "Requirement already satisfied: frozenlist>=1.1.1 in /Users/gaurab/miniforge3/envs/tensorflow/lib/python3.9/site-packages (from aiohttp->gradio) (1.3.0)\n",
      "Requirement already satisfied: yarl<2.0,>=1.0 in /Users/gaurab/miniforge3/envs/tensorflow/lib/python3.9/site-packages (from aiohttp->gradio) (1.7.2)\n",
      "Requirement already satisfied: aiosignal>=1.1.2 in /Users/gaurab/miniforge3/envs/tensorflow/lib/python3.9/site-packages (from aiohttp->gradio) (1.2.0)\n",
      "Requirement already satisfied: charset-normalizer<3.0,>=2.0 in /Users/gaurab/miniforge3/envs/tensorflow/lib/python3.9/site-packages (from aiohttp->gradio) (2.1.0)\n",
      "Requirement already satisfied: six>=1.5 in /Users/gaurab/miniforge3/envs/tensorflow/lib/python3.9/site-packages (from analytics-python->gradio) (1.16.0)\n",
      "Requirement already satisfied: monotonic>=1.5 in /Users/gaurab/miniforge3/envs/tensorflow/lib/python3.9/site-packages (from analytics-python->gradio) (1.6)\n",
      "Requirement already satisfied: backoff==1.10.0 in /Users/gaurab/miniforge3/envs/tensorflow/lib/python3.9/site-packages (from analytics-python->gradio) (1.10.0)\n",
      "Requirement already satisfied: python-dateutil>2.1 in /Users/gaurab/miniforge3/envs/tensorflow/lib/python3.9/site-packages (from analytics-python->gradio) (2.8.2)\n",
      "Requirement already satisfied: urllib3<1.27,>=1.21.1 in /Users/gaurab/miniforge3/envs/tensorflow/lib/python3.9/site-packages (from requests->gradio) (1.26.10)\n",
      "Requirement already satisfied: idna<4,>=2.5 in /Users/gaurab/miniforge3/envs/tensorflow/lib/python3.9/site-packages (from requests->gradio) (3.3)\n",
      "Requirement already satisfied: certifi>=2017.4.17 in /Users/gaurab/miniforge3/envs/tensorflow/lib/python3.9/site-packages (from requests->gradio) (2022.6.15)\n",
      "Requirement already satisfied: starlette==0.19.1 in /Users/gaurab/miniforge3/envs/tensorflow/lib/python3.9/site-packages (from fastapi->gradio) (0.19.1)\n",
      "Requirement already satisfied: anyio<5,>=3.4.0 in /Users/gaurab/miniforge3/envs/tensorflow/lib/python3.9/site-packages (from starlette==0.19.1->fastapi->gradio) (3.5.0)\n",
      "Requirement already satisfied: typing-extensions>=3.10.0 in /Users/gaurab/miniforge3/envs/tensorflow/lib/python3.9/site-packages (from starlette==0.19.1->fastapi->gradio) (4.3.0)\n",
      "Requirement already satisfied: httpcore<0.16.0,>=0.15.0 in /Users/gaurab/miniforge3/envs/tensorflow/lib/python3.9/site-packages (from httpx->gradio) (0.15.0)\n",
      "Requirement already satisfied: rfc3986[idna2008]<2,>=1.3 in /Users/gaurab/miniforge3/envs/tensorflow/lib/python3.9/site-packages (from httpx->gradio) (1.5.0)\n",
      "Requirement already satisfied: sniffio in /Users/gaurab/miniforge3/envs/tensorflow/lib/python3.9/site-packages (from httpx->gradio) (1.2.0)\n",
      "Requirement already satisfied: MarkupSafe>=2.0 in /Users/gaurab/miniforge3/envs/tensorflow/lib/python3.9/site-packages (from Jinja2->gradio) (2.1.1)\n",
      "Requirement already satisfied: mdurl~=0.1 in /Users/gaurab/miniforge3/envs/tensorflow/lib/python3.9/site-packages (from markdown-it-py[linkify,plugins]->gradio) (0.1.1)\n",
      "Requirement already satisfied: linkify-it-py~=1.0 in /Users/gaurab/miniforge3/envs/tensorflow/lib/python3.9/site-packages (from markdown-it-py[linkify,plugins]->gradio) (1.0.3)\n",
      "Requirement already satisfied: mdit-py-plugins in /Users/gaurab/miniforge3/envs/tensorflow/lib/python3.9/site-packages (from markdown-it-py[linkify,plugins]->gradio) (0.3.0)\n",
      "Requirement already satisfied: kiwisolver>=1.0.1 in /Users/gaurab/miniforge3/envs/tensorflow/lib/python3.9/site-packages (from matplotlib->gradio) (1.4.2)\n",
      "Requirement already satisfied: cycler>=0.10 in /Users/gaurab/miniforge3/envs/tensorflow/lib/python3.9/site-packages (from matplotlib->gradio) (0.11.0)\n",
      "Requirement already satisfied: pyparsing>=2.2.1 in /Users/gaurab/miniforge3/envs/tensorflow/lib/python3.9/site-packages (from matplotlib->gradio) (3.0.9)\n",
      "Requirement already satisfied: packaging>=20.0 in /Users/gaurab/miniforge3/envs/tensorflow/lib/python3.9/site-packages (from matplotlib->gradio) (21.3)\n",
      "Requirement already satisfied: fonttools>=4.22.0 in /Users/gaurab/miniforge3/envs/tensorflow/lib/python3.9/site-packages (from matplotlib->gradio) (4.25.0)\n",
      "Requirement already satisfied: pytz>=2020.1 in /Users/gaurab/miniforge3/envs/tensorflow/lib/python3.9/site-packages (from pandas->gradio) (2022.1)\n",
      "Requirement already satisfied: pynacl>=1.0.1 in /Users/gaurab/miniforge3/envs/tensorflow/lib/python3.9/site-packages (from paramiko->gradio) (1.5.0)\n",
      "Requirement already satisfied: cryptography>=2.5 in /Users/gaurab/miniforge3/envs/tensorflow/lib/python3.9/site-packages (from paramiko->gradio) (37.0.1)\n",
      "Requirement already satisfied: bcrypt>=3.1.3 in /Users/gaurab/miniforge3/envs/tensorflow/lib/python3.9/site-packages (from paramiko->gradio) (3.2.2)\n",
      "Requirement already satisfied: h11>=0.8 in /Users/gaurab/miniforge3/envs/tensorflow/lib/python3.9/site-packages (from uvicorn->gradio) (0.12.0)\n",
      "Requirement already satisfied: click>=7.0 in /Users/gaurab/miniforge3/envs/tensorflow/lib/python3.9/site-packages (from uvicorn->gradio) (8.1.3)\n",
      "Requirement already satisfied: cffi>=1.1 in /Users/gaurab/miniforge3/envs/tensorflow/lib/python3.9/site-packages (from bcrypt>=3.1.3->paramiko->gradio) (1.15.0)\n"
     ]
    },
    {
     "name": "stdout",
     "output_type": "stream",
     "text": [
      "Requirement already satisfied: uc-micro-py in /Users/gaurab/miniforge3/envs/tensorflow/lib/python3.9/site-packages (from linkify-it-py~=1.0->markdown-it-py[linkify,plugins]->gradio) (1.0.1)\n",
      "Requirement already satisfied: pycparser in /Users/gaurab/miniforge3/envs/tensorflow/lib/python3.9/site-packages (from cffi>=1.1->bcrypt>=3.1.3->paramiko->gradio) (2.21)\n",
      "Note: you may need to restart the kernel to use updated packages.\n"
     ]
    }
   ],
   "source": [
    "pip install gradio"
   ]
  },
  {
   "cell_type": "code",
   "execution_count": 2,
   "id": "3325adf0",
   "metadata": {},
   "outputs": [],
   "source": [
    "import tensorflow as tf\n",
    "import matplotlib.pyplot as plt\n",
    "import numpy as np "
   ]
  },
  {
   "cell_type": "code",
   "execution_count": 4,
   "id": "409909fe",
   "metadata": {},
   "outputs": [],
   "source": [
    "mist = tf.keras.datasets.mnist\n",
    "(x_train, y_train), (x_test, y_test) = mist.load_data() # Load data"
   ]
  },
  {
   "cell_type": "code",
   "execution_count": 5,
   "id": "96d2636f",
   "metadata": {},
   "outputs": [
    {
     "name": "stdout",
     "output_type": "stream",
     "text": [
      "x_train shape: (60000, 28, 28) y_train_shape: (60000,) \n",
      "X_test shape: (10000, 28, 28) y_test shape:  (10000,)\n"
     ]
    }
   ],
   "source": [
    "print(\"x_train shape:\",x_train.shape,\"y_train_shape:\", y_train.shape,\"\\nX_test shape:\",x_test.shape,\"y_test shape: \", y_test.shape)"
   ]
  },
  {
   "cell_type": "code",
   "execution_count": 31,
   "id": "a53be9e7",
   "metadata": {},
   "outputs": [
    {
     "data": {
      "image/png": "[encoded data removed]",
      "text/plain": [
       "<Figure size 432x288 with 1 Axes>"
      ]
     },
     "metadata": {
      "needs_background": "light"
     },
     "output_type": "display_data"
    },
    {
     "name": "stdout",
     "output_type": "stream",
     "text": [
      "1/1 [==============================] - 0s 11ms/step\n",
      "1/1 [==============================] - 0s 9ms/step\n"
     ]
    }
   ],
   "source": [
    "plt.imshow(x_train[3],cmap=\"gray\")\n",
    "plt.xlabel([y_train[3]])\n",
    "plt.show()"
   ]
  },
  {
   "cell_type": "code",
   "execution_count": 7,
   "id": "882bc92b",
   "metadata": {},
   "outputs": [],
   "source": [
    "x_train = tf.keras.utils.normalize(x_train, axis =1)\n",
    "x_test = tf.keras.utils.normalize(x_test,axis=1)"
   ]
  },
  {
   "cell_type": "code",
   "execution_count": 8,
   "id": "5ee74189",
   "metadata": {},
   "outputs": [],
   "source": [
    "model = tf.keras.models.Sequential()\n",
    "#aading the input to maodel\n",
    "model.add(tf.keras.layers.Flatten())\n",
    "#Bulid the input and the hidden layers\n",
    "model.add(tf.keras.layers.Dense(128,activation=tf.nn.relu))\n",
    "model.add(tf.keras.layers.Dense(128,activation=tf.nn.relu))\n",
    "\n",
    "#bulid the output layer\n",
    "model.add(tf.keras.layers.Dense(10,activation=tf.nn.softmax))\n"
   ]
  },
  {
   "cell_type": "code",
   "execution_count": 9,
   "id": "2560baaa",
   "metadata": {},
   "outputs": [],
   "source": [
    "model.compile(optimizer=\"adam\",loss=\"sparse_categorical_crossentropy\",metrics=[\"accuracy\"])\n"
   ]
  },
  {
   "cell_type": "code",
   "execution_count": 10,
   "id": "2ebdc732",
   "metadata": {},
   "outputs": [
    {
     "name": "stdout",
     "output_type": "stream",
     "text": [
      "Epoch 1/5\n"
     ]
    },
    {
     "name": "stderr",
     "output_type": "stream",
     "text": [
      "2022-07-16 07:47:54.989109: W tensorflow/core/platform/profile_utils/cpu_utils.cc:128] Failed to get CPU frequency: 0 Hz\n"
     ]
    },
    {
     "name": "stdout",
     "output_type": "stream",
     "text": [
      "700/700 [==============================] - 1s 1ms/step - loss: 0.3610 - accuracy: 0.8988 - val_loss: 0.2047 - val_accuracy: 0.9381\n",
      "Epoch 2/5\n",
      "700/700 [==============================] - 1s 1ms/step - loss: 0.1476 - accuracy: 0.9553 - val_loss: 0.1380 - val_accuracy: 0.9594\n",
      "Epoch 3/5\n",
      "700/700 [==============================] - 1s 1ms/step - loss: 0.0992 - accuracy: 0.9691 - val_loss: 0.1346 - val_accuracy: 0.9602\n",
      "Epoch 4/5\n",
      "700/700 [==============================] - 1s 1ms/step - loss: 0.0718 - accuracy: 0.9782 - val_loss: 0.1139 - val_accuracy: 0.9673\n",
      "Epoch 5/5\n",
      "700/700 [==============================] - 1s 1ms/step - loss: 0.0552 - accuracy: 0.9826 - val_loss: 0.1178 - val_accuracy: 0.9674\n"
     ]
    }
   ],
   "source": [
    "model_fitting = model.fit(x=x_train,y =y_train, batch_size=60,verbose=1,epochs=5,validation_split=.3)"
   ]
  },
  {
   "cell_type": "code",
   "execution_count": 11,
   "id": "fb9d2374",
   "metadata": {},
   "outputs": [
    {
     "name": "stdout",
     "output_type": "stream",
     "text": [
      "313/313 [==============================] - 0s 568us/step - loss: 0.1094 - accuracy: 0.9668\n",
      "\n",
      "Test Accuracu: 0.9667999744415283\n",
      "\n",
      "Test Loss: 0.10936299711465836\n"
     ]
    }
   ],
   "source": [
    "\n",
    "test_loss,test_acc = model.evaluate(x=x_test,y= y_test)\n",
    "\n",
    "\n",
    "print(\"\\nTest Accuracu:\", test_acc)\n",
    "print(\"\\nTest Loss:\", test_loss)"
   ]
  },
  {
   "cell_type": "code",
   "execution_count": 12,
   "id": "7f4d70b0",
   "metadata": {},
   "outputs": [
    {
     "name": "stdout",
     "output_type": "stream",
     "text": [
      "WARNING:tensorflow:Layers in a Sequential model should only have a single input tensor. Received: inputs=(<tf.Tensor 'IteratorGetNext:0' shape=(None, 28, 28) dtype=float32>,). Consider rewriting this model with the Functional API.\n",
      "313/313 [==============================] - 0s 493us/step\n"
     ]
    }
   ],
   "source": [
    "predictions = model.predict([x_test])"
   ]
  },
  {
   "cell_type": "code",
   "execution_count": 13,
   "id": "5e42df7e",
   "metadata": {},
   "outputs": [
    {
     "data": {
      "image/png": "[encoded data removed]",
      "text/plain": [
       "<Figure size 432x288 with 1 Axes>"
      ]
     },
     "metadata": {
      "needs_background": "light"
     },
     "output_type": "display_data"
    }
   ],
   "source": [
    "plt.imshow(x_test[1],cmap=\"gray\")\n",
    "plt.xlabel([y_test[1]])\n",
    "plt.show()"
   ]
  },
  {
   "cell_type": "code",
   "execution_count": 45,
   "id": "d5a6ef13",
   "metadata": {},
   "outputs": [],
   "source": [
    "print(np.argmax(predictions[1]))"
   ]
  },
  {
   "cell_type": "code",
   "execution_count": null,
   "id": "c2f463a4",
   "metadata": {},
   "outputs": [],
   "source": []
  },
  {
   "cell_type": "code",
   "execution_count": 46,
   "id": "de3eb5ef",
   "metadata": {},
   "outputs": [],
   "source": [
    "def plot(i, predictions_array, true_label,img):\n",
    "    predictions_array, true_label, img = predictions_array[i+10],true_label[i+10], img[i+10]\n",
    "    plt.grid (True)\n",
    "    plt.xticks([])\n",
    "    plt.yticks([])\n",
    "    #show the image of data \n",
    "    plt.imshow(img, cmap='gray')\n",
    "    \n",
    "    #condition for check if the prediction is right or wrong \n",
    "    \n",
    "    predicted_label = np.argmax(predictions_array)\n",
    "    if predicted_label == true_label:\n",
    "        color ='green'\n",
    "    else:\n",
    "        color = 'red'\n",
    "\n",
    "    plt.xlabel (\"Predicted Label: {} ,\\nTrue: {}\".format([predicted_label],\n",
    "                    [true_label]),\n",
    "                    color=color)\n",
    "\n"
   ]
  },
  {
   "cell_type": "code",
   "execution_count": 47,
   "id": "c1835805",
   "metadata": {},
   "outputs": [
    {
     "data": {
      "image/png": "[encoded data removed]",
      "text/plain": [
       "<Figure size 576x576 with 10 Axes>"
      ]
     },
     "metadata": {},
     "output_type": "display_data"
    },
    {
     "name": "stdout",
     "output_type": "stream",
     "text": [
      "1/1 [==============================] - 0s 9ms/step\n",
      "1/1 [==============================] - 0s 9ms/step\n",
      "1/1 [==============================] - 0s 8ms/step\n",
      "1/1 [==============================] - 0s 9ms/step\n",
      "1/1 [==============================] - 0s 10ms/step\n",
      "1/1 [==============================] - 0s 8ms/step\n",
      "1/1 [==============================] - 0s 9ms/step\n",
      "1/1 [==============================] - 0s 9ms/step\n",
      "1/1 [==============================] - 0s 9ms/step\n",
      "1/1 [==============================] - 0s 9ms/step\n",
      "1/1 [==============================] - 0s 9ms/step\n",
      "1/1 [==============================] - 0s 9ms/step\n",
      "1/1 [==============================] - 0s 9ms/step\n",
      "1/1 [==============================] - 0s 9ms/step\n",
      "1/1 [==============================] - 0s 9ms/step\n",
      "1/1 [==============================] - 0s 9ms/step\n",
      "1/1 [==============================] - 0s 9ms/step\n",
      "1/1 [==============================] - 0s 9ms/step\n",
      "1/1 [==============================] - 0s 9ms/step\n",
      "1/1 [==============================] - 0s 9ms/step\n",
      "1/1 [==============================] - 0s 9ms/step\n",
      "1/1 [==============================] - 0s 9ms/step\n",
      "1/1 [==============================] - 0s 9ms/step\n",
      "1/1 [==============================] - 0s 9ms/step\n",
      "1/1 [==============================] - 0s 9ms/step\n",
      "1/1 [==============================] - 0s 9ms/step\n",
      "1/1 [==============================] - 0s 9ms/step\n",
      "1/1 [==============================] - 0s 10ms/step\n",
      "1/1 [==============================] - 0s 9ms/step\n",
      "1/1 [==============================] - 0s 9ms/step\n",
      "1/1 [==============================] - 0s 9ms/step\n",
      "1/1 [==============================] - 0s 9ms/step\n",
      "1/1 [==============================] - 0s 9ms/step\n",
      "1/1 [==============================] - 0s 9ms/step\n",
      "1/1 [==============================] - 0s 9ms/step\n",
      "1/1 [==============================] - 0s 9ms/step\n"
     ]
    }
   ],
   "source": [
    "num_rows =4\n",
    "num_cols =4\n",
    "num_images = 10\n",
    "plt.figure(figsize=(1*2*num_cols,2*num_rows))\n",
    "for i in range(num_images):\n",
    "    plt.subplot(num_rows,2*num_cols,2*i+1)\n",
    "    plot(i, predictions, y_test, x_test)\n",
    "    \n",
    "plt.show()"
   ]
  },
  {
   "cell_type": "code",
   "execution_count": null,
   "id": "e8a54a79",
   "metadata": {},
   "outputs": [],
   "source": [
    "\n",
    "\n"
   ]
  },
  {
   "cell_type": "code",
   "execution_count": 17,
   "id": "6c8c0b3f",
   "metadata": {},
   "outputs": [],
   "source": [
    "def predict_image(img):\n",
    "    img_3d = img.reshape(-1,28,28)\n",
    "    im_resize=tf.keras.utils.normalize(img_3d, axis =1)\n",
    "    prediction = model.predict(im_resize)\n",
    "    ans=np.argmax(prediction)\n",
    "    return ans\n"
   ]
  },
  {
   "cell_type": "code",
   "execution_count": 18,
   "id": "50e82abd",
   "metadata": {},
   "outputs": [
    {
     "name": "stdout",
     "output_type": "stream",
     "text": [
      "313/313 [==============================] - 0s 682us/step - loss: 0.1094 - accuracy: 0.9668\n",
      "\n",
      "Test Accuracy: 0.9667999744415283\n"
     ]
    }
   ],
   "source": [
    "test_loss,test_acc = model.evaluate(x=x_test,y= y_test)\n",
    "\n",
    "\n",
    "print(\"\\nTest Accuracy:\", test_acc)\n"
   ]
  },
  {
   "cell_type": "code",
   "execution_count": 3,
   "id": "7ecb6057",
   "metadata": {},
   "outputs": [],
   "source": [
    "import gradio as gr"
   ]
  },
  {
   "cell_type": "code",
   "execution_count": 24,
   "id": "7143bc58",
   "metadata": {},
   "outputs": [],
   "source": [
    "title = \"Digit Recognition System\"\n",
    "description = \"\"\"\n",
    "\n",
    "A simple Machine learing Tool to recognize digits!!\n",
    "\n",
    "\n",
    "\"\"\""
   ]
  },
  {
   "cell_type": "code",
   "execution_count": 25,
   "id": "293872f6",
   "metadata": {},
   "outputs": [],
   "source": [
    "iface = gr.Interface(predict_image,inputs=\"sketchpad\", outputs=\"label\",title = title, description = description)"
   ]
  },
  {
   "cell_type": "code",
   "execution_count": 26,
   "id": "9bf9a2de",
   "metadata": {},
   "outputs": [
    {
     "name": "stdout",
     "output_type": "stream",
     "text": [
      "Running on local URL:  http://127.0.0.1:7862/\n",
      "\n",
      "To create a public link, set `share=True` in `launch()`.\n"
     ]
    },
    {
     "data": {
      "text/html": [
       "<div><iframe src=\"http://127.0.0.1:7862/\" width=\"900\" height=\"500\" allow=\"autoplay; camera; microphone;\" frameborder=\"0\" allowfullscreen></iframe></div>"
      ],
      "text/plain": [
       "<IPython.core.display.HTML object>"
      ]
     },
     "metadata": {},
     "output_type": "display_data"
    },
    {
     "data": {
      "text/plain": [
       "(<gradio.routes.App at 0x17b024ca0>, 'http://127.0.0.1:7862/', None)"
      ]
     },
     "execution_count": 26,
     "metadata": {},
     "output_type": "execute_result"
    },
    {
     "name": "stdout",
     "output_type": "stream",
     "text": [
      "1/1 [==============================] - 0s 9ms/step\n",
      "1/1 [==============================] - 0s 9ms/step\n",
      "1/1 [==============================] - 0s 9ms/step\n",
      "1/1 [==============================] - 0s 9ms/step\n",
      "1/1 [==============================] - 0s 8ms/step\n",
      "1/1 [==============================] - 0s 9ms/step\n",
      "1/1 [==============================] - 0s 9ms/step\n",
      "1/1 [==============================] - 0s 9ms/step\n",
      "1/1 [==============================] - 0s 9ms/step\n",
      "1/1 [==============================] - 0s 8ms/step\n",
      "1/1 [==============================] - 0s 9ms/step\n",
      "1/1 [==============================] - 0s 9ms/step\n",
      "1/1 [==============================] - 0s 9ms/step\n",
      "1/1 [==============================] - 0s 9ms/step\n",
      "1/1 [==============================] - 0s 9ms/step\n",
      "1/1 [==============================] - 0s 9ms/step\n",
      "1/1 [==============================] - 0s 9ms/step\n",
      "1/1 [==============================] - 0s 9ms/step\n",
      "1/1 [==============================] - 0s 9ms/step\n",
      "1/1 [==============================] - 0s 9ms/step\n",
      "1/1 [==============================] - 0s 9ms/step\n",
      "1/1 [==============================] - 0s 9ms/step\n",
      "1/1 [==============================] - 0s 9ms/step\n",
      "1/1 [==============================] - 0s 9ms/step\n",
      "1/1 [==============================] - 0s 9ms/step\n",
      "1/1 [==============================] - 0s 9ms/step\n",
      "1/1 [==============================] - 0s 9ms/step\n",
      "1/1 [==============================] - 0s 9ms/step\n",
      "1/1 [==============================] - 0s 9ms/step\n",
      "1/1 [==============================] - 0s 9ms/step\n",
      "1/1 [==============================] - 0s 9ms/step\n",
      "1/1 [==============================] - 0s 10ms/step\n"
     ]
    }
   ],
   "source": [
    "iface.launch()\n"
   ]
  },
  {
   "cell_type": "code",
   "execution_count": null,
   "id": "4adbb1ee",
   "metadata": {},
   "outputs": [],
   "source": []
  }
 ],
 "metadata": {
  "kernelspec": {
   "display_name": "Python 3 (ipykernel)",
   "language": "python",
   "name": "python3"
  },
  "language_info": {
   "codemirror_mode": {
    "name": "ipython",
    "version": 3
   },
   "file_extension": ".py",
   "mimetype": "text/x-python",
   "name": "python",
   "nbconvert_exporter": "python",
   "pygments_lexer": "ipython3",
   "version": "3.9.5"
  },
  "vscode": {
   "interpreter": {
    "hash": "333765c22fcaf0be6296e36dcdc18cdeed55c8616f827fa61a50b855a73605ce"
   }
  }
 },
 "nbformat": 4,
 "nbformat_minor": 5
}
